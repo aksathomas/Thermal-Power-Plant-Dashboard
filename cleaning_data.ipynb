{
 "cells": [
  {
   "cell_type": "code",
   "execution_count": 1,
   "id": "ddb1040a",
   "metadata": {},
   "outputs": [],
   "source": [
    "import numpy as np\n",
    "import pandas as pd"
   ]
  },
  {
   "cell_type": "code",
   "execution_count": 2,
   "id": "e7160a5a",
   "metadata": {},
   "outputs": [],
   "source": [
    "df=pd.read_excel('Coal Power Plants database_INDIA_FINAL.xlsx')"
   ]
  },
  {
   "cell_type": "code",
   "execution_count": 3,
   "id": "e55b4c1f",
   "metadata": {},
   "outputs": [
    {
     "data": {
      "text/html": [
       "<div>\n",
       "<style scoped>\n",
       "    .dataframe tbody tr th:only-of-type {\n",
       "        vertical-align: middle;\n",
       "    }\n",
       "\n",
       "    .dataframe tbody tr th {\n",
       "        vertical-align: top;\n",
       "    }\n",
       "\n",
       "    .dataframe thead th {\n",
       "        text-align: right;\n",
       "    }\n",
       "</style>\n",
       "<table border=\"1\" class=\"dataframe\">\n",
       "  <thead>\n",
       "    <tr style=\"text-align: right;\">\n",
       "      <th></th>\n",
       "      <th>Region</th>\n",
       "      <th>State</th>\n",
       "      <th>District</th>\n",
       "      <th>Location</th>\n",
       "      <th>Plant name</th>\n",
       "      <th>Owner</th>\n",
       "      <th>Sector</th>\n",
       "      <th>Status</th>\n",
       "      <th>Unit</th>\n",
       "      <th>Capacity (MW)</th>\n",
       "      <th>...</th>\n",
       "      <th>2016</th>\n",
       "      <th>2017</th>\n",
       "      <th>2018</th>\n",
       "      <th>2019</th>\n",
       "      <th>2020</th>\n",
       "      <th>2021</th>\n",
       "      <th>2022</th>\n",
       "      <th>2023</th>\n",
       "      <th>2024</th>\n",
       "      <th>2025</th>\n",
       "    </tr>\n",
       "  </thead>\n",
       "  <tbody>\n",
       "    <tr>\n",
       "      <th>0</th>\n",
       "      <td>Southern</td>\n",
       "      <td>Andhra Pradesh</td>\n",
       "      <td>Atchutapuram</td>\n",
       "      <td>Visakhapatman</td>\n",
       "      <td>Atchutapuram</td>\n",
       "      <td>Abhijeet Group</td>\n",
       "      <td>Private</td>\n",
       "      <td>Planned</td>\n",
       "      <td>1</td>\n",
       "      <td>300.0</td>\n",
       "      <td>...</td>\n",
       "      <td>NaN</td>\n",
       "      <td>NaN</td>\n",
       "      <td>NaN</td>\n",
       "      <td>NaN</td>\n",
       "      <td>300.0</td>\n",
       "      <td>300.0</td>\n",
       "      <td>300.0</td>\n",
       "      <td>300.0</td>\n",
       "      <td>300.0</td>\n",
       "      <td>300.0</td>\n",
       "    </tr>\n",
       "    <tr>\n",
       "      <th>1</th>\n",
       "      <td>Southern</td>\n",
       "      <td>Andhra Pradesh</td>\n",
       "      <td>Kadapa</td>\n",
       "      <td>Yerraguntla</td>\n",
       "      <td>Rayalaseema Thermal Power Project Stage I</td>\n",
       "      <td>Andhra Pradesh Power Generation Corporation (A...</td>\n",
       "      <td>State</td>\n",
       "      <td>Operating</td>\n",
       "      <td>1</td>\n",
       "      <td>210.0</td>\n",
       "      <td>...</td>\n",
       "      <td>210.0</td>\n",
       "      <td>210.0</td>\n",
       "      <td>210.0</td>\n",
       "      <td>210.0</td>\n",
       "      <td>210.0</td>\n",
       "      <td>210.0</td>\n",
       "      <td>210.0</td>\n",
       "      <td>210.0</td>\n",
       "      <td>210.0</td>\n",
       "      <td>210.0</td>\n",
       "    </tr>\n",
       "    <tr>\n",
       "      <th>2</th>\n",
       "      <td>Southern</td>\n",
       "      <td>Andhra Pradesh</td>\n",
       "      <td>Kadapa</td>\n",
       "      <td>Yerraguntla</td>\n",
       "      <td>Rayalaseema Thermal Power Project Stage I</td>\n",
       "      <td>Andhra Pradesh Power Generation Corporation (A...</td>\n",
       "      <td>State</td>\n",
       "      <td>Operating</td>\n",
       "      <td>2</td>\n",
       "      <td>210.0</td>\n",
       "      <td>...</td>\n",
       "      <td>210.0</td>\n",
       "      <td>210.0</td>\n",
       "      <td>210.0</td>\n",
       "      <td>210.0</td>\n",
       "      <td>210.0</td>\n",
       "      <td>210.0</td>\n",
       "      <td>210.0</td>\n",
       "      <td>210.0</td>\n",
       "      <td>210.0</td>\n",
       "      <td>210.0</td>\n",
       "    </tr>\n",
       "    <tr>\n",
       "      <th>3</th>\n",
       "      <td>Southern</td>\n",
       "      <td>Andhra Pradesh</td>\n",
       "      <td>Kadapa</td>\n",
       "      <td>Yerraguntla</td>\n",
       "      <td>Rayalaseema Thermal Power Project Stage II</td>\n",
       "      <td>Andhra Pradesh Power Generation Corporation (A...</td>\n",
       "      <td>State</td>\n",
       "      <td>Operating</td>\n",
       "      <td>3</td>\n",
       "      <td>210.0</td>\n",
       "      <td>...</td>\n",
       "      <td>210.0</td>\n",
       "      <td>210.0</td>\n",
       "      <td>210.0</td>\n",
       "      <td>210.0</td>\n",
       "      <td>210.0</td>\n",
       "      <td>210.0</td>\n",
       "      <td>210.0</td>\n",
       "      <td>210.0</td>\n",
       "      <td>210.0</td>\n",
       "      <td>210.0</td>\n",
       "    </tr>\n",
       "    <tr>\n",
       "      <th>4</th>\n",
       "      <td>Southern</td>\n",
       "      <td>Andhra Pradesh</td>\n",
       "      <td>Kadapa</td>\n",
       "      <td>Yerraguntla</td>\n",
       "      <td>Rayalaseema Thermal Power Project Stage II</td>\n",
       "      <td>Andhra Pradesh Power Generation Corporation (A...</td>\n",
       "      <td>State</td>\n",
       "      <td>Operating</td>\n",
       "      <td>4</td>\n",
       "      <td>210.0</td>\n",
       "      <td>...</td>\n",
       "      <td>210.0</td>\n",
       "      <td>210.0</td>\n",
       "      <td>210.0</td>\n",
       "      <td>210.0</td>\n",
       "      <td>210.0</td>\n",
       "      <td>210.0</td>\n",
       "      <td>210.0</td>\n",
       "      <td>210.0</td>\n",
       "      <td>210.0</td>\n",
       "      <td>210.0</td>\n",
       "    </tr>\n",
       "  </tbody>\n",
       "</table>\n",
       "<p>5 rows × 33 columns</p>\n",
       "</div>"
      ],
      "text/plain": [
       "     Region           State      District       Location  \\\n",
       "0  Southern  Andhra Pradesh  Atchutapuram  Visakhapatman   \n",
       "1  Southern  Andhra Pradesh        Kadapa    Yerraguntla   \n",
       "2  Southern  Andhra Pradesh        Kadapa    Yerraguntla   \n",
       "3  Southern  Andhra Pradesh        Kadapa    Yerraguntla   \n",
       "4  Southern  Andhra Pradesh        Kadapa    Yerraguntla   \n",
       "\n",
       "                                  Plant name   \\\n",
       "0                                Atchutapuram   \n",
       "1   Rayalaseema Thermal Power Project Stage I   \n",
       "2   Rayalaseema Thermal Power Project Stage I   \n",
       "3  Rayalaseema Thermal Power Project Stage II   \n",
       "4  Rayalaseema Thermal Power Project Stage II   \n",
       "\n",
       "                                               Owner   Sector     Status  \\\n",
       "0                                     Abhijeet Group  Private    Planned   \n",
       "1  Andhra Pradesh Power Generation Corporation (A...    State  Operating   \n",
       "2  Andhra Pradesh Power Generation Corporation (A...    State  Operating   \n",
       "3  Andhra Pradesh Power Generation Corporation (A...    State  Operating   \n",
       "4  Andhra Pradesh Power Generation Corporation (A...    State  Operating   \n",
       "\n",
       "   Unit  Capacity (MW)  ...   2016   2017   2018   2019   2020   2021   2022  \\\n",
       "0     1          300.0  ...    NaN    NaN    NaN    NaN  300.0  300.0  300.0   \n",
       "1     1          210.0  ...  210.0  210.0  210.0  210.0  210.0  210.0  210.0   \n",
       "2     2          210.0  ...  210.0  210.0  210.0  210.0  210.0  210.0  210.0   \n",
       "3     3          210.0  ...  210.0  210.0  210.0  210.0  210.0  210.0  210.0   \n",
       "4     4          210.0  ...  210.0  210.0  210.0  210.0  210.0  210.0  210.0   \n",
       "\n",
       "    2023   2024   2025  \n",
       "0  300.0  300.0  300.0  \n",
       "1  210.0  210.0  210.0  \n",
       "2  210.0  210.0  210.0  \n",
       "3  210.0  210.0  210.0  \n",
       "4  210.0  210.0  210.0  \n",
       "\n",
       "[5 rows x 33 columns]"
      ]
     },
     "execution_count": 3,
     "metadata": {},
     "output_type": "execute_result"
    }
   ],
   "source": [
    "df.head()"
   ]
  },
  {
   "cell_type": "code",
   "execution_count": 4,
   "id": "e718f8ff",
   "metadata": {},
   "outputs": [
    {
     "data": {
      "text/plain": [
       "Index([            'Region',              'State',           'District',\n",
       "                 'Location',        'Plant name ',              'Owner',\n",
       "                   'Sector',             'Status',               'Unit',\n",
       "            'Capacity (MW)', 'Commissioning year',             'Boiler',\n",
       "              'Coal Source',     'Import country',               'Port',\n",
       "             'CV (kcal/kg)',         'Type plant',          'Coal Type',\n",
       "                 'Latitude',          'Longitude',                 2013,\n",
       "                       2014,                 2015,                 2016,\n",
       "                       2017,                 2018,                 2019,\n",
       "                       2020,                 2021,                 2022,\n",
       "                       2023,                 2024,                 2025],\n",
       "      dtype='object')"
      ]
     },
     "execution_count": 4,
     "metadata": {},
     "output_type": "execute_result"
    }
   ],
   "source": [
    "df.columns"
   ]
  },
  {
   "cell_type": "code",
   "execution_count": 5,
   "id": "c2127cae",
   "metadata": {},
   "outputs": [],
   "source": [
    "df[\"Coal Source\"].fillna(\"other\", inplace = True)"
   ]
  },
  {
   "cell_type": "code",
   "execution_count": 6,
   "id": "4bd48008",
   "metadata": {},
   "outputs": [],
   "source": [
    "df[\"Import country\"].fillna(\"India\", inplace = True)"
   ]
  },
  {
   "cell_type": "code",
   "execution_count": 7,
   "id": "0f09cdfa",
   "metadata": {},
   "outputs": [],
   "source": [
    "df[\"Port\"].fillna(\"none\", inplace = True)"
   ]
  },
  {
   "cell_type": "code",
   "execution_count": 8,
   "id": "51904432",
   "metadata": {},
   "outputs": [],
   "source": [
    "df[\"Coal Type\"].fillna(\"other\", inplace = True)"
   ]
  },
  {
   "cell_type": "code",
   "execution_count": 9,
   "id": "5d102558",
   "metadata": {},
   "outputs": [],
   "source": [
    "df[\"Commissioning year\"].fillna(0, inplace = True)"
   ]
  },
  {
   "cell_type": "code",
   "execution_count": 10,
   "id": "0902e1df",
   "metadata": {},
   "outputs": [],
   "source": [
    "df[2013].fillna(0, inplace = True)\n",
    "df[2014].fillna(0, inplace = True)\n",
    "df[2015].fillna(0, inplace = True)\n",
    "df[2016].fillna(0, inplace = True)\n",
    "df[2017].fillna(0, inplace = True)\n",
    "df[2018].fillna(0, inplace = True)\n",
    "df[2019].fillna(0, inplace = True)\n",
    "df[2020].fillna(0, inplace = True)\n",
    "df[2021].fillna(0, inplace = True)\n",
    "df[2022].fillna(0, inplace = True)\n",
    "df[2023].fillna(0, inplace = True)\n",
    "df[2024].fillna(0, inplace = True)\n",
    "df[2025].fillna(0, inplace = True)"
   ]
  },
  {
   "cell_type": "code",
   "execution_count": 11,
   "id": "b81c2dea",
   "metadata": {},
   "outputs": [],
   "source": [
    "del df[\"CV (kcal/kg)\"]"
   ]
  },
  {
   "cell_type": "code",
   "execution_count": 12,
   "id": "ef800e10",
   "metadata": {},
   "outputs": [],
   "source": [
    "df.to_csv('clean_data.csv',index=False)"
   ]
  },
  {
   "cell_type": "code",
   "execution_count": null,
   "id": "5792b763",
   "metadata": {},
   "outputs": [],
   "source": []
  }
 ],
 "metadata": {
  "kernelspec": {
   "display_name": "Python 3 (ipykernel)",
   "language": "python",
   "name": "python3"
  },
  "language_info": {
   "codemirror_mode": {
    "name": "ipython",
    "version": 3
   },
   "file_extension": ".py",
   "mimetype": "text/x-python",
   "name": "python",
   "nbconvert_exporter": "python",
   "pygments_lexer": "ipython3",
   "version": "3.9.7"
  }
 },
 "nbformat": 4,
 "nbformat_minor": 5
}
